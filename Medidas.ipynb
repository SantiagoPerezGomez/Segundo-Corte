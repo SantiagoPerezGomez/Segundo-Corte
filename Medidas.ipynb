{
  "nbformat": 4,
  "nbformat_minor": 0,
  "metadata": {
    "colab": {
      "provenance": []
    },
    "kernelspec": {
      "name": "python3",
      "display_name": "Python 3"
    },
    "language_info": {
      "name": "python"
    }
  },
  "cells": [
    {
      "cell_type": "code",
      "execution_count": null,
      "metadata": {
        "id": "-P47L6h_oIc3"
      },
      "outputs": [],
      "source": [
        "estatura= float(input(\"ingrese su estatura: \"))\n",
        "peso= int(input(\"ingrese su peso: \"))\n",
        "metros= estatura/100\n",
        "masa= peso/(pow(metros,2))\n",
        "print(\"su masa corporal es: \", masa)"
      ]
    }
  ]
}