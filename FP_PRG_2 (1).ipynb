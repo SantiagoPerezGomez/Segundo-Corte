{
  "nbformat": 4,
  "nbformat_minor": 0,
  "metadata": {
    "colab": {
      "provenance": []
    },
    "kernelspec": {
      "name": "python3",
      "display_name": "Python 3"
    },
    "language_info": {
      "name": "python"
    }
  },
  "cells": [
    {
      "cell_type": "markdown",
      "source": [
        "Descripcion "
      ],
      "metadata": {
        "id": "rLvl8bCVbtoo"
      }
    },
    {
      "cell_type": "markdown",
      "source": [
        "Descripción del Enunciado:  Para un estudiante leer su nombre,  las 3 notas de los parciales \n",
        "y calcular su nota definitiva e informa si aprobó o reprobo.  La nota definitiva se calcula por\n",
        "promedio\n",
        "Autor: Grupo FP Noche\n",
        "Fecha: 31_08_2022\n",
        "Versión: 1.0"
      ],
      "metadata": {
        "id": "XpVqRz3_b8Xt"
      }
    },
    {
      "cell_type": "code",
      "execution_count": null,
      "metadata": {
        "id": "eiAqj0gnbqPo"
      },
      "outputs": [],
      "source": [
        "# Declaracion  De Varaibles\n",
        "var_ent_cad_nombreEstudiante = \"\"\n",
        "var_ent_float_nota_PP = 0.0\n",
        "var_ent_float_nota_SP = 0.0\n",
        "var_ent_float_nota_TP = 0.0\n",
        "var_ent_float_notaDef = 0.0\n",
        "# Variable que almacena la nota definitiva\n",
        "var_proSal_float_notaDef = 0.0 \n",
        "var_proSal_cad_Concepto = \"\""
      ]
    },
    {
      "cell_type": "code",
      "source": [
        "# CAPTURA DE DATOS\n",
        "var_ent_cad_nombreEstudiante = (input(\"Nombre del estudiante  \"))\n",
        "var_ent_float_nota_PP = float (input(\"Primer Parcial : \"))\n",
        "var_ent_float_nota_SP = float (input(\"Segundo Parcial : \"))\n",
        "var_ent_float_nota_TP = float (input(\"Tercer Parciall : \"))"
      ],
      "metadata": {
        "colab": {
          "base_uri": "https://localhost:8080/"
        },
        "id": "e8JlkHldcaD-",
        "outputId": "1aae3a5d-2df0-4d8a-945f-f26af3f49f3f"
      },
      "execution_count": null,
      "outputs": [
        {
          "name": "stdout",
          "output_type": "stream",
          "text": [
            "Nombre del estudiante  Santiago\n",
            "Primer Parcial : 3.0\n",
            "Segundo Parcial : 3.0\n",
            "Tercer Parciall : 3.0\n"
          ]
        }
      ]
    },
    {
      "cell_type": "code",
      "source": [
        "#Procesos\n",
        "var_ent_float_nota_TP = (var_ent_float_nota_PP+var_ent_float_nota_SP+var_ent_float_nota_TP)/3"
      ],
      "metadata": {
        "id": "79uwsgaVdkiN"
      },
      "execution_count": null,
      "outputs": []
    },
    {
      "cell_type": "code",
      "source": [
        "# Proceso para saber si el estudiante aprobo o reprobo\n",
        "if(var_proSal_float_notaDef<=2.9):\n",
        "  var_proSal_cad_Concepto = \"Aprobo - Te promueves\"\n",
        "else:\n",
        "  var_proSal_cad_Concepto = \"Reprobo - Sigue Intentandolo\"\n"
      ],
      "metadata": {
        "id": "tD8WHFaHunEZ"
      },
      "execution_count": null,
      "outputs": []
    },
    {
      "cell_type": "code",
      "source": [
        "#Salidas\n",
        "print(\"La nota definitiva de \", var_ent_cad_nombreEstudiante + \" \"+\"es : \",str(var_ent_float_nota_TP ) +  \" Concepto :\",var_proSal_cad_Concepto )"
      ],
      "metadata": {
        "colab": {
          "base_uri": "https://localhost:8080/"
        },
        "id": "Levj1wsreCLs",
        "outputId": "918e3d88-336e-45f0-dbca-309a6ac8189e"
      },
      "execution_count": null,
      "outputs": [
        {
          "output_type": "stream",
          "name": "stdout",
          "text": [
            "La nota definitiva de  Santiago es :  3.0 Concepto : Aprobo - Te promueves\n"
          ]
        }
      ]
    }
  ]
}