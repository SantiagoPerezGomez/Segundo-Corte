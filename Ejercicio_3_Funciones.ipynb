{
  "nbformat": 4,
  "nbformat_minor": 0,
  "metadata": {
    "colab": {
      "provenance": []
    },
    "kernelspec": {
      "name": "python3",
      "display_name": "Python 3"
    },
    "language_info": {
      "name": "python"
    }
  },
  "cells": [
    {
      "cell_type": "code",
      "execution_count": 1,
      "metadata": {
        "colab": {
          "base_uri": "https://localhost:8080/"
        },
        "id": "5Ph-YXMKZC7T",
        "outputId": "66597899-a66b-49dd-b0c2-60f443771721"
      },
      "outputs": [
        {
          "output_type": "stream",
          "name": "stdout",
          "text": [
            "Digite el numero:258\n",
            "Numero digitados:  3\n"
          ]
        }
      ],
      "source": [
        "#Funcion #3\n",
        "\n",
        "def contardigit(n):\n",
        "    count = 0\n",
        "    while n != 0:\n",
        "      n //=10\n",
        "      count += 1\n",
        "    return count\n",
        "  \n",
        "n = int(input(\"Digite el numero:\"))\n",
        "print(\"Numero digitados: % d\" % (contardigit(n)))"
      ]
    }
  ]
}