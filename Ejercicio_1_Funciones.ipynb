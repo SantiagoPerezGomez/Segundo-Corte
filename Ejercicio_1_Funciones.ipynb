{
  "nbformat": 4,
  "nbformat_minor": 0,
  "metadata": {
    "colab": {
      "provenance": [],
      "collapsed_sections": []
    },
    "kernelspec": {
      "name": "python3",
      "display_name": "Python 3"
    },
    "language_info": {
      "name": "python"
    }
  },
  "cells": [
    {
      "cell_type": "code",
      "execution_count": 3,
      "metadata": {
        "colab": {
          "base_uri": "https://localhost:8080/"
        },
        "id": "oMebnR2SW33l",
        "outputId": "08524bde-7664-43b1-f8dc-a167c5900c02"
      },
      "outputs": [
        {
          "output_type": "stream",
          "name": "stdout",
          "text": [
            "Digite el numero: 158\n",
            "El ultimo Digito es:  8\n"
          ]
        }
      ],
      "source": [
        "#Funcion Taller #1\n",
        "\n",
        "def Ultimo_Dig(num):\n",
        "  UltimoDig = 0\n",
        "  UltimoDig = num%10\n",
        "  return(UltimoDig)\n",
        "\n",
        "#Llamando a la funcion\n",
        "\n",
        "valor = int(input(\"Digite el numero: \"))\n",
        "print(\"El ultimo Digito es: \", Ultimo_Dig(valor))"
      ]
    }
  ]
}