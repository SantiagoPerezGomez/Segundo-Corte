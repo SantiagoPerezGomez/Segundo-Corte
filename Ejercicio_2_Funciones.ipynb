{
  "nbformat": 4,
  "nbformat_minor": 0,
  "metadata": {
    "colab": {
      "provenance": []
    },
    "kernelspec": {
      "name": "python3",
      "display_name": "Python 3"
    },
    "language_info": {
      "name": "python"
    }
  },
  "cells": [
    {
      "cell_type": "code",
      "execution_count": 1,
      "metadata": {
        "colab": {
          "base_uri": "https://localhost:8080/"
        },
        "id": "sSGr8O2OYg2x",
        "outputId": "4e757ad1-9e2d-4d9e-aa9e-d1f9664f73b9"
      },
      "outputs": [
        {
          "output_type": "stream",
          "name": "stdout",
          "text": [
            "Digite el numero: 654\n",
            "El ultimo Digito es:  54\n"
          ]
        }
      ],
      "source": [
        "#Funcion Taller #2\n",
        "\n",
        "def Ultimo_Dig(num):\n",
        "  UltimoDig = 0\n",
        "  UltimoDig = num%100\n",
        "  return(UltimoDig)\n",
        "\n",
        "#Llamando a la funcion\n",
        "\n",
        "valor = int(input(\"Digite el numero: \"))\n",
        "print(\"El ultimo Digito es: \", Ultimo_Dig(valor))"
      ]
    }
  ]
}