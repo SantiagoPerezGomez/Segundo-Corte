{
  "nbformat": 4,
  "nbformat_minor": 0,
  "metadata": {
    "colab": {
      "provenance": []
    },
    "kernelspec": {
      "name": "python3",
      "display_name": "Python 3"
    },
    "language_info": {
      "name": "python"
    }
  },
  "cells": [
    {
      "cell_type": "code",
      "execution_count": null,
      "metadata": {
        "id": "jHeNVjkGoh7M"
      },
      "outputs": [],
      "source": [
        "num1= int(input(\"ingrese el valor de su compra\"))\n",
        "iva= num1*1.19\n",
        "descuento= iva/1.05\n",
        "print(\"el precio total con iva y descuento es\")\n",
        "print(descuento)"
      ]
    }
  ]
}