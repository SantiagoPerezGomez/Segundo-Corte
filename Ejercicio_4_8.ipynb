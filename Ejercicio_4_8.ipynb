{
  "nbformat": 4,
  "nbformat_minor": 0,
  "metadata": {
    "colab": {
      "provenance": []
    },
    "kernelspec": {
      "name": "python3",
      "display_name": "Python 3"
    },
    "language_info": {
      "name": "python"
    }
  },
  "cells": [
    {
      "cell_type": "markdown",
      "source": [
        "Ejercicio 4.8"
      ],
      "metadata": {
        "id": "sI4YhRKFThFw"
      }
    },
    {
      "cell_type": "code",
      "execution_count": null,
      "metadata": {
        "id": "wDdpID5sTeRG"
      },
      "outputs": [],
      "source": [
        "lado1=float(input(\"ingrese el valor del lado 1: \"))\n",
        "lado2=float(input(\"ingrese el valor del lado 2: \"))\n",
        "area= lado1*lado2\n",
        "perimetro= (lado1*2)+(lado2*2)\n",
        "print(\"el area es: \", area)\n",
        "print(\"el perimeto es: \", perimetro)"
      ]
    }
  ]
}