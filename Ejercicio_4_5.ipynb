{
  "nbformat": 4,
  "nbformat_minor": 0,
  "metadata": {
    "colab": {
      "provenance": []
    },
    "kernelspec": {
      "name": "python3",
      "display_name": "Python 3"
    },
    "language_info": {
      "name": "python"
    }
  },
  "cells": [
    {
      "cell_type": "markdown",
      "source": [
        "Ejercicio 4.5\n"
      ],
      "metadata": {
        "id": "4VuVBbcsS8K5"
      }
    },
    {
      "cell_type": "code",
      "execution_count": null,
      "metadata": {
        "id": "bG9uS69HSRk_"
      },
      "outputs": [],
      "source": [
        "horas=int(input(\"ingrese numero de horas trabajadas: \"))\n",
        "valor=int(input(\"ingrese su sueldo por hora trabajada: \"))\n",
        "sueldo= horas*valor\n",
        "seguridad= sueldo/1.08\n",
        "if seguridad<300:\n",
        "    bonificacion=seguridad*1.02\n",
        "    print(\"su sueldo total es: \", bonificacion)\n",
        "else:\n",
        "    print(\"su sueldo total es: \", seguridad)"
      ]
    }
  ]
}